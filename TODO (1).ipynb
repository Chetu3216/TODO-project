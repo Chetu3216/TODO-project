{
 "cells": [
  {
   "cell_type": "code",
   "execution_count": null,
   "id": "dc88136a-9e2f-4573-8a05-7715b0d03155",
   "metadata": {},
   "outputs": [],
   "source": []
  },
  {
   "cell_type": "code",
   "execution_count": null,
   "id": "c5537654-771a-487a-918a-d2136eed180b",
   "metadata": {},
   "outputs": [],
   "source": []
  },
  {
   "cell_type": "code",
   "execution_count": null,
   "id": "8ce4b231-7507-419f-af49-3342b52a9466",
   "metadata": {},
   "outputs": [],
   "source": []
  },
  {
   "cell_type": "code",
   "execution_count": 5,
   "id": "f3951943-6035-41e1-a3a2-b00ff6594adc",
   "metadata": {},
   "outputs": [],
   "source": [
    "class ToDoList:\n",
    "    def __init__(self):\n",
    "        self.tasks = []\n",
    "\n",
    "    def add_task(self, task):\n",
    "        self.tasks.append({\"task\": task, \"completed\": False})\n",
    "        print(f'Task \"{task}\" added successfully.')\n",
    "\n",
    "    def view_tasks(self):\n",
    "        if not self.tasks:\n",
    "            print(\"Your task list is empty.\")\n",
    "        else:\n",
    "            print(\"\\nTo-Do List:\")\n",
    "            for idx, task in enumerate(self.tasks, start=1):\n",
    "                status = \"Completed\" if task[\"completed\"] else \"Pending\"\n",
    "                print(f\"{idx}. {task['task']} - {status}\")\n",
    "\n",
    "    def remove_task(self, index):\n",
    "        try:\n",
    "            task = self.tasks.pop(index - 1)\n",
    "            print(f'Task \"{task[\"task\"]}\" removed successfully.')\n",
    "        except IndexError:\n",
    "            print(\"Invalid task number.\")\n",
    "\n",
    "    def complete_task(self, index):\n",
    "        try:\n",
    "            self.tasks[index - 1][\"completed\"] = True\n",
    "            print(f'Task \"{self.tasks[index - 1][\"task\"]}\" marked as completed.')\n",
    "        except IndexError:\n",
    "            print(\"Invalid task number.\")\n"
   ]
  },
  {
   "cell_type": "code",
   "execution_count": 7,
   "id": "21a5d4f9-1f39-4625-a473-00d80f791ac2",
   "metadata": {},
   "outputs": [
    {
     "name": "stdout",
     "output_type": "stream",
     "text": [
      "To-Do List Application initialized.\n"
     ]
    }
   ],
   "source": [
    "# Create an instance of ToDoList\n",
    "todo_list = ToDoList()\n",
    "print(\"To-Do List Application initialized.\")\n"
   ]
  },
  {
   "cell_type": "code",
   "execution_count": 13,
   "id": "62b2dff7-b049-44b3-ad25-613334643d67",
   "metadata": {},
   "outputs": [
    {
     "name": "stdin",
     "output_type": "stream",
     "text": [
      "Enter the task to add:  1. Homework\n"
     ]
    },
    {
     "name": "stdout",
     "output_type": "stream",
     "text": [
      "Task \"1. Homework\" added successfully.\n"
     ]
    }
   ],
   "source": [
    "# Add a task\n",
    "task = input(\"Enter the task to add: \")\n",
    "todo_list.add_task(task)\n"
   ]
  },
  {
   "cell_type": "code",
   "execution_count": 15,
   "id": "35e74f77-3a56-40d1-bdeb-98d23959bf7a",
   "metadata": {},
   "outputs": [
    {
     "name": "stdin",
     "output_type": "stream",
     "text": [
      "Enter the task to add:  2.Study\n"
     ]
    },
    {
     "name": "stdout",
     "output_type": "stream",
     "text": [
      "Task \"2.Study\" added successfully.\n"
     ]
    }
   ],
   "source": [
    "# Add a task\n",
    "task = input(\"Enter the task to add: \")\n",
    "todo_list.add_task(task)\n"
   ]
  },
  {
   "cell_type": "code",
   "execution_count": null,
   "id": "ecaa85cd-b844-4d6a-b6dc-a14c1f0239b4",
   "metadata": {},
   "outputs": [],
   "source": [
    "# Add a task\n",
    "task = input(\"Enter the task to add: \")\n",
    "todo_list.add_task(task)\n"
   ]
  },
  {
   "cell_type": "code",
   "execution_count": 17,
   "id": "321277fd-11b8-4302-aaf1-eadb7797d519",
   "metadata": {},
   "outputs": [
    {
     "name": "stdout",
     "output_type": "stream",
     "text": [
      "\n",
      "To-Do List:\n",
      "1. Homework - Pending\n",
      "2. HOmework, meeting - Pending\n",
      "3. 1. Homework - Pending\n",
      "4. 2.Study - Pending\n"
     ]
    }
   ],
   "source": [
    "# View all tasks\n",
    "todo_list.view_tasks()\n"
   ]
  },
  {
   "cell_type": "code",
   "execution_count": 19,
   "id": "8c855c9f-b1c2-47f7-8c0a-7f269176685c",
   "metadata": {},
   "outputs": [
    {
     "name": "stdout",
     "output_type": "stream",
     "text": [
      "\n",
      "To-Do List:\n",
      "1. Homework - Pending\n",
      "2. HOmework, meeting - Pending\n",
      "3. 1. Homework - Pending\n",
      "4. 2.Study - Pending\n"
     ]
    },
    {
     "name": "stdin",
     "output_type": "stream",
     "text": [
      "Enter the task number to remove:  2\n"
     ]
    },
    {
     "name": "stdout",
     "output_type": "stream",
     "text": [
      "Task \"HOmework, meeting\" removed successfully.\n"
     ]
    }
   ],
   "source": [
    "# Remove a task\n",
    "todo_list.view_tasks()\n",
    "try:\n",
    "    task_num = int(input(\"Enter the task number to remove: \"))\n",
    "    todo_list.remove_task(task_num)\n",
    "except ValueError:\n",
    "    print(\"Please enter a valid number.\")\n"
   ]
  },
  {
   "cell_type": "code",
   "execution_count": 19,
   "id": "97937e3f-2258-41af-a1b4-54533b867afb",
   "metadata": {},
   "outputs": [
    {
     "name": "stdout",
     "output_type": "stream",
     "text": [
      "\n",
      "To-Do List:\n",
      "1. Homework - Pending\n",
      "2. HOmework, meeting - Pending\n",
      "3. 1. Homework - Pending\n",
      "4. 2.Study - Pending\n"
     ]
    },
    {
     "name": "stdin",
     "output_type": "stream",
     "text": [
      "Enter the task number to remove:  2\n"
     ]
    },
    {
     "name": "stdout",
     "output_type": "stream",
     "text": [
      "Task \"HOmework, meeting\" removed successfully.\n"
     ]
    }
   ],
   "source": [
    "# Remove a task\n",
    "todo_list.view_tasks()\n",
    "try:\n",
    "    task_num = int(input(\"Enter the task number to remove: \"))\n",
    "    todo_list.remove_task(task_num)\n",
    "except ValueError:\n",
    "    print(\"Please enter a valid number.\")\n"
   ]
  },
  {
   "cell_type": "code",
   "execution_count": 19,
   "id": "893e890a-e5dc-459d-b52c-38eae398b337",
   "metadata": {},
   "outputs": [
    {
     "name": "stdout",
     "output_type": "stream",
     "text": [
      "\n",
      "To-Do List:\n",
      "1. Homework - Pending\n",
      "2. HOmework, meeting - Pending\n",
      "3. 1. Homework - Pending\n",
      "4. 2.Study - Pending\n"
     ]
    },
    {
     "name": "stdin",
     "output_type": "stream",
     "text": [
      "Enter the task number to remove:  2\n"
     ]
    },
    {
     "name": "stdout",
     "output_type": "stream",
     "text": [
      "Task \"HOmework, meeting\" removed successfully.\n"
     ]
    }
   ],
   "source": [
    "# Remove a task\n",
    "todo_list.view_tasks()\n",
    "try:\n",
    "    task_num = int(input(\"Enter the task number to remove: \"))\n",
    "    todo_list.remove_task(task_num)\n",
    "except ValueError:\n",
    "    print(\"Please enter a valid number.\")\n"
   ]
  },
  {
   "cell_type": "code",
   "execution_count": 21,
   "id": "ffccdae9-f3af-49c2-9b4d-3cd7a531ff6b",
   "metadata": {},
   "outputs": [
    {
     "name": "stdout",
     "output_type": "stream",
     "text": [
      "\n",
      "To-Do List:\n",
      "1. Homework - Pending\n",
      "2. 1. Homework - Pending\n",
      "3. 2.Study - Pending\n"
     ]
    },
    {
     "name": "stdin",
     "output_type": "stream",
     "text": [
      "Enter the task number to mark as complete:  1\n"
     ]
    },
    {
     "name": "stdout",
     "output_type": "stream",
     "text": [
      "Task \"Homework\" marked as completed.\n"
     ]
    }
   ],
   "source": [
    "# Mark a task as complete\n",
    "todo_list.view_tasks()\n",
    "try:\n",
    "    task_num = int(input(\"Enter the task number to mark as complete: \"))\n",
    "    todo_list.complete_task(task_num)\n",
    "except ValueError:\n",
    "    print(\"Please enter a valid number.\")\n"
   ]
  },
  {
   "cell_type": "code",
   "execution_count": 23,
   "id": "c021e0cf-37db-41a5-aea9-56535c2a60ed",
   "metadata": {},
   "outputs": [
    {
     "name": "stdout",
     "output_type": "stream",
     "text": [
      "\n",
      "To-Do List:\n",
      "1. Homework - Completed\n",
      "2. 1. Homework - Pending\n",
      "3. 2.Study - Pending\n"
     ]
    },
    {
     "name": "stdin",
     "output_type": "stream",
     "text": [
      "Enter the task number to mark as complete:  3\n"
     ]
    },
    {
     "name": "stdout",
     "output_type": "stream",
     "text": [
      "Task \"2.Study\" marked as completed.\n"
     ]
    }
   ],
   "source": [
    "# Mark a task as complete\n",
    "todo_list.view_tasks()\n",
    "try:\n",
    "    task_num = int(input(\"Enter the task number to mark as complete: \"))\n",
    "    todo_list.complete_task(task_num)\n",
    "except ValueError:\n",
    "    print(\"Please enter a valid number.\")\n"
   ]
  },
  {
   "cell_type": "code",
   "execution_count": null,
   "id": "4b0c7dc9-9a48-4656-951e-19665cdea98f",
   "metadata": {},
   "outputs": [],
   "source": []
  }
 ],
 "metadata": {
  "kernelspec": {
   "display_name": "Python 3 (ipykernel)",
   "language": "python",
   "name": "python3"
  },
  "language_info": {
   "codemirror_mode": {
    "name": "ipython",
    "version": 3
   },
   "file_extension": ".py",
   "mimetype": "text/x-python",
   "name": "python",
   "nbconvert_exporter": "python",
   "pygments_lexer": "ipython3",
   "version": "3.12.4"
  }
 },
 "nbformat": 4,
 "nbformat_minor": 5
}
